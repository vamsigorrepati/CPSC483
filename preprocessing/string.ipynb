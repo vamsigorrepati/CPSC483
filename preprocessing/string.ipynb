{
 "cells": [
  {
   "cell_type": "code",
   "execution_count": 1,
   "metadata": {},
   "outputs": [
    {
     "name": "stdout",
     "output_type": "stream",
     "text": [
      "               protein1              protein2  neighborhood  fusion  \\\n",
      "0  9606.ENSP00000000233  9606.ENSP00000427567             0       0   \n",
      "1  9606.ENSP00000000233  9606.ENSP00000253413             0       0   \n",
      "2  9606.ENSP00000000233  9606.ENSP00000493357             0       0   \n",
      "3  9606.ENSP00000000233  9606.ENSP00000324127             0       0   \n",
      "4  9606.ENSP00000000233  9606.ENSP00000325266             0       0   \n",
      "\n",
      "   cooccurence  coexpression  experimental  database  textmining  \\\n",
      "0            0             0           128         0          70   \n",
      "1            0           118            49         0          69   \n",
      "2            0            56            53         0         457   \n",
      "3            0             0            46         0         197   \n",
      "4            0            94           125         0          50   \n",
      "\n",
      "   combined_score  \n",
      "0             154  \n",
      "1             151  \n",
      "2             471  \n",
      "3             201  \n",
      "4             180  \n"
     ]
    }
   ],
   "source": [
    "import pandas as pd\n",
    "\n",
    "file_path = \"9606.protein.links.detailed.v12.0.txt\"\n",
    "\n",
    "columns = [\n",
    "    \"protein1\", \"protein2\", \"neighborhood\", \"fusion\", \"cooccurence\", \n",
    "    \"coexpression\", \"experimental\", \"database\", \"textmining\", \"combined_score\"\n",
    "]\n",
    "\n",
    "data = pd.read_csv(file_path, sep=\" \", names=columns, header=1)\n",
    "\n",
    "print(data.head())"
   ]
  },
  {
   "cell_type": "code",
   "execution_count": 3,
   "metadata": {},
   "outputs": [],
   "source": [
    "import json \n",
    "\n",
    "with open(\"idmapping_2024_11_16.json\", \"r\") as f:\n",
    "    id_mapping = json.load(f)"
   ]
  },
  {
   "cell_type": "code",
   "execution_count": 13,
   "metadata": {},
   "outputs": [],
   "source": [
    "protein_to_gene = {\n",
    "    entry[\"from\"]: entry[\"to\"][\"genes\"][0][\"geneName\"][\"value\"] \n",
    "    for entry in id_mapping[\"results\"] if \"genes\" in entry[\"to\"] and \"geneName\" in entry[\"to\"][\"genes\"][0]\n",
    "}\n",
    "\n",
    "data[\"gene1\"] = data[\"protein1\"].str.split('.').str[-1].map(protein_to_gene)\n",
    "data[\"gene2\"] = data[\"protein2\"].str.split('.').str[-1].map(protein_to_gene)\n",
    "\n",
    "protein_to_gene_data_file = \"protein_to_gene_data.csv\"\n",
    "data.to_csv(protein_to_gene_data_file, index=False)"
   ]
  },
  {
   "cell_type": "code",
   "execution_count": null,
   "metadata": {},
   "outputs": [],
   "source": []
  }
 ],
 "metadata": {
  "kernelspec": {
   "display_name": "Python 3",
   "language": "python",
   "name": "python3"
  },
  "language_info": {
   "codemirror_mode": {
    "name": "ipython",
    "version": 3
   },
   "file_extension": ".py",
   "mimetype": "text/x-python",
   "name": "python",
   "nbconvert_exporter": "python",
   "pygments_lexer": "ipython3",
   "version": "3.10.14"
  }
 },
 "nbformat": 4,
 "nbformat_minor": 2
}
