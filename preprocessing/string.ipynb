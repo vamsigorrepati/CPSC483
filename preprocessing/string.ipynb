{
 "cells": [
  {
   "cell_type": "code",
   "execution_count": 1,
   "metadata": {},
   "outputs": [
    {
     "name": "stdout",
     "output_type": "stream",
     "text": [
      "               protein1              protein2  neighborhood  fusion  \\\n",
      "0  9606.ENSP00000000233  9606.ENSP00000427567             0       0   \n",
      "1  9606.ENSP00000000233  9606.ENSP00000253413             0       0   \n",
      "2  9606.ENSP00000000233  9606.ENSP00000493357             0       0   \n",
      "3  9606.ENSP00000000233  9606.ENSP00000324127             0       0   \n",
      "4  9606.ENSP00000000233  9606.ENSP00000325266             0       0   \n",
      "\n",
      "   cooccurence  coexpression  experimental  database  textmining  \\\n",
      "0            0             0           128         0          70   \n",
      "1            0           118            49         0          69   \n",
      "2            0            56            53         0         457   \n",
      "3            0             0            46         0         197   \n",
      "4            0            94           125         0          50   \n",
      "\n",
      "   combined_score  \n",
      "0             154  \n",
      "1             151  \n",
      "2             471  \n",
      "3             201  \n",
      "4             180  \n"
     ]
    }
   ],
   "source": [
    "import pandas as pd\n",
    "\n",
    "file_path = \"9606.protein.links.detailed.v12.0.txt\"\n",
    "\n",
    "columns = [\n",
    "    \"protein1\", \"protein2\", \"neighborhood\", \"fusion\", \"cooccurence\", \n",
    "    \"coexpression\", \"experimental\", \"database\", \"textmining\", \"combined_score\"\n",
    "]\n",
    "\n",
    "data = pd.read_csv(file_path, sep=\" \", names=columns, header=1)\n",
    "\n",
    "print(data.head())"
   ]
  },
  {
   "cell_type": "code",
   "execution_count": 3,
   "metadata": {},
   "outputs": [],
   "source": [
    "import json \n",
    "\n",
    "with open(\"idmapping_2024_11_16.json\", \"r\") as f:\n",
    "    id_mapping = json.load(f)"
   ]
  },
  {
   "cell_type": "code",
   "execution_count": 13,
   "metadata": {},
   "outputs": [],
   "source": [
    "protein_to_gene = {\n",
    "    entry[\"from\"]: entry[\"to\"][\"genes\"][0][\"geneName\"][\"value\"] \n",
    "    for entry in id_mapping[\"results\"] if \"genes\" in entry[\"to\"] and \"geneName\" in entry[\"to\"][\"genes\"][0]\n",
    "}\n",
    "\n",
    "data[\"gene1\"] = data[\"protein1\"].str.split('.').str[-1].map(protein_to_gene)\n",
    "data[\"gene2\"] = data[\"protein2\"].str.split('.').str[-1].map(protein_to_gene)\n",
    "\n",
    "protein_to_gene_data_file = \"protein_to_gene_data.csv\"\n",
    "data.to_csv(protein_to_gene_data_file, index=False)"
   ]
  },
  {
   "cell_type": "code",
   "execution_count": 8,
   "metadata": {},
   "outputs": [],
   "source": [
    "import torch\n",
    "from torch_geometric.data import Data\n",
    "from sklearn.preprocessing import MinMaxScaler\n",
    "import pandas as pd\n",
    "\n",
    "csv_file = \"protein_to_gene_data.csv\" \n",
    "df = pd.read_csv(csv_file)\n",
    "\n",
    "edge_feature_columns = [\n",
    "    \"neighborhood\", \"fusion\", \"cooccurence\", \"coexpression\",\n",
    "    \"experimental\", \"database\", \"textmining\", \"combined_score\"\n",
    "]\n",
    "for col in edge_feature_columns:\n",
    "    scaler = MinMaxScaler()\n",
    "    df[col] = scaler.fit_transform(df[[col]])\n",
    "\n",
    "node_dict = {}\n",
    "node_type_dict = {}\n",
    "node_index = 0\n",
    "\n",
    "def get_node_index(node, node_type):\n",
    "    global node_index\n",
    "    if node not in node_dict:\n",
    "        node_dict[node] = node_index\n",
    "        node_type_dict[node_index] = node_type\n",
    "        node_index += 1\n",
    "    return node_dict[node]\n",
    "\n",
    "edge_index = []\n",
    "edge_features = []\n",
    "\n",
    "for _, row in df.iterrows():\n",
    "    protein1 = row[\"protein1\"]\n",
    "    protein2 = row[\"protein2\"]\n",
    "    gene1 = row[\"gene1\"]\n",
    "    gene2 = row[\"gene2\"]\n",
    "    \n",
    "    p1_idx = get_node_index(protein1, 0)  # Protein node\n",
    "    p2_idx = get_node_index(protein2, 0)  # Protein node\n",
    "    g1_idx = get_node_index(gene1, 1)     # Gene node\n",
    "    g2_idx = get_node_index(gene2, 1)     # Gene node\n",
    "    \n",
    "    for source, target in [(p1_idx, p2_idx), (p1_idx, g1_idx), (p1_idx, g2_idx)]:\n",
    "        edge_index.append([source, target])\n",
    "        edge_index.append([target, source])  \n",
    "        \n",
    "        edge_features.append(row[edge_feature_columns].values)\n",
    "        edge_features.append(row[edge_feature_columns].values)\n",
    "\n",
    "edge_index = torch.tensor(edge_index, dtype=torch.long).t().contiguous()\n",
    "edge_attr = torch.tensor(edge_features, dtype=torch.float)\n",
    "\n",
    "num_nodes = len(node_dict)\n",
    "node_features = torch.zeros((num_nodes, 1), dtype=torch.float)\n",
    "for idx, node_type in node_type_dict.items():\n",
    "    node_features[idx] = node_type  # 0 for protein, 1 for gene\n",
    "\n",
    "data = Data(x=node_features, edge_index=edge_index, edge_attr=edge_attr)"
   ]
  },
  {
   "cell_type": "code",
   "execution_count": 14,
   "metadata": {},
   "outputs": [
    {
     "data": {
      "text/plain": [
       "Data(x=[1976, 1], edge_index=[2, 6000], edge_attr=[6000, 8])"
      ]
     },
     "execution_count": 14,
     "metadata": {},
     "output_type": "execute_result"
    }
   ],
   "source": [
    "data"
   ]
  },
  {
   "cell_type": "code",
   "execution_count": null,
   "metadata": {},
   "outputs": [],
   "source": []
  }
 ],
 "metadata": {
  "kernelspec": {
   "display_name": "Python 3",
   "language": "python",
   "name": "python3"
  },
  "language_info": {
   "codemirror_mode": {
    "name": "ipython",
    "version": 3
   },
   "file_extension": ".py",
   "mimetype": "text/x-python",
   "name": "python",
   "nbconvert_exporter": "python",
   "pygments_lexer": "ipython3",
   "version": "3.10.14"
  }
 },
 "nbformat": 4,
 "nbformat_minor": 2
}
