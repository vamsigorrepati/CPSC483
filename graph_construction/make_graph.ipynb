{
 "cells": [
  {
   "cell_type": "code",
   "execution_count": 4,
   "metadata": {},
   "outputs": [],
   "source": [
    "import torch\n",
    "from torch_geometric.data import Data\n",
    "from sklearn.preprocessing import MinMaxScaler\n",
    "import pandas as pd\n",
    "\n",
    "# Load protein-to-gene data\n",
    "protein_to_gene_file = \"../preprocessing/protein_to_gene_filtered.csv\"\n",
    "df_protein_to_gene = pd.read_csv(protein_to_gene_file)\n",
    "\n",
    "# Load psychiatric disorders data\n",
    "psychiatric_disorders_file = \"../psychiatric_disorders_full_GDA.csv\"\n",
    "df_psychiatric_disorders = pd.read_csv(psychiatric_disorders_file)\n",
    "\n",
    "# Normalize edge feature columns in protein-to-gene data\n",
    "protein_edge_feature_columns = [\n",
    "    \"neighborhood\", \"fusion\", \"cooccurence\", \"coexpression\",\n",
    "    \"experimental\", \"database\", \"textmining\", \"combined_score\"\n",
    "]\n",
    "for col in protein_edge_feature_columns:\n",
    "    scaler = MinMaxScaler()\n",
    "    df_protein_to_gene[col] = scaler.fit_transform(df_protein_to_gene[[col]])\n",
    "\n",
    "# Normalize edge feature columns in psychiatric disorders data\n",
    "disorder_edge_feature_columns = [\n",
    "    \"score\", \"yearInitial\", \"yearFinal\", \"numPMIDs\", \"evidence_index\"\n",
    "]\n",
    "for col in disorder_edge_feature_columns:\n",
    "    scaler = MinMaxScaler()\n",
    "    df_psychiatric_disorders[col] = scaler.fit_transform(df_psychiatric_disorders[[col]])\n",
    "\n",
    "# Initialize dictionaries for nodes\n",
    "node_dict = {}\n",
    "node_type_dict = {}\n",
    "node_index = 0\n",
    "\n",
    "def get_node_index(node, node_type):\n",
    "    global node_index\n",
    "    if node not in node_dict:\n",
    "        node_dict[node] = node_index\n",
    "        node_type_dict[node_index] = node_type\n",
    "        node_index += 1\n",
    "    return node_dict[node]\n",
    "\n",
    "# Create graph edges and edge features\n",
    "edge_index = []\n",
    "edge_features = []\n",
    "\n",
    "# Add protein-to-gene edges\n",
    "for _, row in df_protein_to_gene.iterrows():\n",
    "    protein1 = row[\"protein1\"]\n",
    "    protein2 = row[\"protein2\"]\n",
    "    gene1 = row[\"gene1\"]\n",
    "    gene2 = row[\"gene2\"]\n",
    "    \n",
    "    p1_idx = get_node_index(protein1, 0)  # Protein node\n",
    "    p2_idx = get_node_index(protein2, 0)  # Protein node\n",
    "    g1_idx = get_node_index(gene1, 1)     # Gene node\n",
    "    g2_idx = get_node_index(gene2, 1)     # Gene node\n",
    "    \n",
    "    for source, target in [(p1_idx, p2_idx), (p1_idx, g1_idx), (p1_idx, g2_idx)]:\n",
    "        edge_index.append([source, target])\n",
    "        edge_index.append([target, source])  \n",
    "        \n",
    "        edge_features.append(row[protein_edge_feature_columns].values)\n",
    "        edge_features.append(row[protein_edge_feature_columns].values)\n",
    "\n",
    "# Add gene-to-disease edges\n",
    "for _, row in df_psychiatric_disorders.iterrows():\n",
    "    gene = row[\"gene_symbol\"]\n",
    "    disease = row[\"disease_name\"]\n",
    "    \n",
    "    if pd.isna(disease) or pd.isna(gene):\n",
    "        continue\n",
    "    \n",
    "    if gene in node_dict:\n",
    "        gene_idx = get_node_index(gene, 1)  # Gene node\n",
    "        disease_idx = get_node_index(disease, 2)  # Disease node\n",
    "        \n",
    "        edge_index.append([gene_idx, disease_idx])\n",
    "        edge_index.append([disease_idx, gene_idx])\n",
    "        \n",
    "        edge_features.append(row[disorder_edge_feature_columns].values)\n",
    "        edge_features.append(row[disorder_edge_feature_columns].values)\n"
   ]
  },
  {
   "cell_type": "code",
   "execution_count": 5,
   "metadata": {},
   "outputs": [],
   "source": [
    "max_edge_feature_size = max(len(edge) for edge in edge_features)\n",
    "padded_edge_features = [\n",
    "    list(edge) + [0] * (max_edge_feature_size - len(edge)) for edge in edge_features\n",
    "]\n",
    "\n",
    "# Convert edge_index and edge_features to tensors\n",
    "edge_index = torch.tensor(edge_index, dtype=torch.long).t().contiguous()\n",
    "edge_attr = torch.tensor(padded_edge_features, dtype=torch.float)\n",
    "\n",
    "# Create node features\n",
    "num_nodes = len(node_dict)\n",
    "node_features = torch.zeros((num_nodes, 1), dtype=torch.float)\n",
    "for idx, node_type in node_type_dict.items():\n",
    "    node_features[idx] = node_type  # 0 for protein, 1 for gene, 2 for disease\n",
    "\n",
    "# Create graph data object\n",
    "data = Data(x=node_features, edge_index=edge_index, edge_attr=edge_attr)"
   ]
  },
  {
   "cell_type": "code",
   "execution_count": 6,
   "metadata": {},
   "outputs": [
    {
     "data": {
      "text/plain": [
       "Data(x=[2981, 1], edge_index=[2, 1843122], edge_attr=[1843122, 8])"
      ]
     },
     "execution_count": 6,
     "metadata": {},
     "output_type": "execute_result"
    }
   ],
   "source": [
    "data"
   ]
  },
  {
   "cell_type": "code",
   "execution_count": null,
   "metadata": {},
   "outputs": [],
   "source": []
  }
 ],
 "metadata": {
  "kernelspec": {
   "display_name": "Python 3",
   "language": "python",
   "name": "python3"
  },
  "language_info": {
   "codemirror_mode": {
    "name": "ipython",
    "version": 3
   },
   "file_extension": ".py",
   "mimetype": "text/x-python",
   "name": "python",
   "nbconvert_exporter": "python",
   "pygments_lexer": "ipython3",
   "version": "3.10.14"
  }
 },
 "nbformat": 4,
 "nbformat_minor": 2
}
